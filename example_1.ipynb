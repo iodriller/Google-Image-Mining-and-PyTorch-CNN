{
 "cells": [
  {
   "cell_type": "code",
   "execution_count": null,
   "metadata": {
    "ExecuteTime": {
     "end_time": "2020-06-08T02:04:32.800924Z",
     "start_time": "2020-06-08T02:01:45.489611Z"
    }
   },
   "outputs": [],
   "source": [
    "from preprocess_data import preprocess_data\n",
    "\n",
    "search_terms = [\"ferret\", \"cat\", \"dog\"]\n",
    "DRIVER_PATH = r\"<PATH>\"\n",
    "no_of_images = 30\n",
    "\n",
    "preprocess_data().run(search_terms, DRIVER_PATH, no_of_images, epochs = 10)"
   ]
  }
 ],
 "metadata": {
  "kernelspec": {
   "display_name": "Python 3",
   "language": "python",
   "name": "python3"
  },
  "language_info": {
   "codemirror_mode": {
    "name": "ipython",
    "version": 3
   },
   "file_extension": ".py",
   "mimetype": "text/x-python",
   "name": "python",
   "nbconvert_exporter": "python",
   "pygments_lexer": "ipython3",
   "version": "3.7.6"
  }
 },
 "nbformat": 4,
 "nbformat_minor": 2
}

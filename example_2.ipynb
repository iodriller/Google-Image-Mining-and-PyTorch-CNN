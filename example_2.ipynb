{
 "cells": [
  {
   "cell_type": "code",
   "execution_count": null,
   "metadata": {
    "ExecuteTime": {
     "end_time": "2020-06-08T02:12:06.021396Z",
     "start_time": "2020-06-08T02:11:38.421357Z"
    }
   },
   "outputs": [],
   "source": [
    "from google_image_search import google_image_search\n",
    "\n",
    "search_term = \"ferret\"\n",
    "DRIVER_PATH = r\"<PATH>\"\n",
    "\n",
    "google_image_search().search_and_download(search_term, DRIVER_PATH, number_images = 10)"
   ]
  }
 ],
 "metadata": {
  "kernelspec": {
   "display_name": "Python 3",
   "language": "python",
   "name": "python3"
  },
  "language_info": {
   "codemirror_mode": {
    "name": "ipython",
    "version": 3
   },
   "file_extension": ".py",
   "mimetype": "text/x-python",
   "name": "python",
   "nbconvert_exporter": "python",
   "pygments_lexer": "ipython3",
   "version": "3.7.6"
  }
 },
 "nbformat": 4,
 "nbformat_minor": 2
}
